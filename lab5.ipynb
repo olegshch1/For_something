{
 "cells": [
  {
   "cell_type": "code",
   "execution_count": 1,
   "metadata": {},
   "outputs": [],
   "source": [
    "import numpy\n",
    "import cmath\n",
    "import math\n",
    "import matplotlib.pyplot as plt\n"
   ]
  },
  {
   "cell_type": "code",
   "execution_count": 2,
   "metadata": {},
   "outputs": [],
   "source": [
    "# Функция F(p)\n",
    "def F(p):\n",
    "    return (p ** (1/2) - p ** (1/3)) / (p + 5)"
   ]
  },
  {
   "cell_type": "code",
   "execution_count": 3,
   "metadata": {},
   "outputs": [],
   "source": [
    "# Функция fi(p)\n",
    "def fi(p):\n",
    "    return p * F(p)"
   ]
  },
  {
   "cell_type": "code",
   "execution_count": 4,
   "metadata": {},
   "outputs": [],
   "source": [
    "# Функция G(z, t) (t > 0)\n",
    "def G(z, t):\n",
    "    return F((1 - z)/ t) / t\n"
   ]
  },
  {
   "cell_type": "code",
   "execution_count": 5,
   "metadata": {},
   "outputs": [],
   "source": [
    "# Функция e_m(x)\n",
    "def e_m(m, x):\n",
    "    return cmath.exp(2 * cmath.pi * x * 1j / m)"
   ]
  },
  {
   "cell_type": "code",
   "execution_count": 6,
   "metadata": {},
   "outputs": [],
   "source": [
    "# Вычисление r от параметра n\n",
    "def comp_r(n):\n",
    "    max = 100\n",
    "    a = 0.0\n",
    "    b = 1.0\n",
    "    for i in range(100):\n",
    "        c = (a + b) / 2\n",
    "        if (c + 0.001) ** n - (c + 0.001) ** (n + 1) > (c - 0.001) ** n - (c - 0.001) ** (n + 1):\n",
    "            a = c\n",
    "        else:\n",
    "            b = c\n",
    "    return c"
   ]
  },
  {
   "cell_type": "code",
   "execution_count": 7,
   "metadata": {},
   "outputs": [],
   "source": [
    "# Вычисление m от второго слагаемого\n",
    "def comp_m(n, e):\n",
    "    r = comp_r(n)\n",
    "    M = 1\n",
    "    m = 1\n",
    "    while M * r ** m / (1 - r ** m) > e / ((1 - r) * r ** n):\n",
    "        m += 1\n",
    "    return m"
   ]
  },
  {
   "cell_type": "code",
   "execution_count": 8,
   "metadata": {},
   "outputs": [],
   "source": [
    "# Функция W_n_m(f, t)\n",
    "def W_n_m(m, n, r, t):\n",
    "    sum = 0\n",
    "    for j in range(1, m):\n",
    "        sum += (r * e_m(m, j)) ** (-n) * fi(n * (1 - r * e_m(m, j)) / t) / (1 - r * e_m(m, j))\n",
    "    return sum / m"
   ]
  },
  {
   "cell_type": "code",
   "execution_count": 9,
   "metadata": {},
   "outputs": [],
   "source": [
    "# Вычисление в точках (Метод Виддера W_n_m(f, t))\n",
    "def solut_1(n, e, t):\n",
    "    r = comp_r(n)\n",
    "    m = comp_m(n, e)\n",
    "    return W_n_m(m, n, r, t)"
   ]
  },
  {
   "cell_type": "code",
   "execution_count": 10,
   "metadata": {},
   "outputs": [],
   "source": [
    "# Вычисление всех d_j\n",
    "def comp_d_j(k):\n",
    "    d_j = [2 * j for j in range(1, k + 1)]\n",
    "    return d_j"
   ]
  },
  {
   "cell_type": "code",
   "execution_count": 11,
   "metadata": {},
   "outputs": [],
   "source": [
    "# Вычисление всех c_k_j\n",
    "def comp_c_k_j(n, k):\n",
    "    d_j = comp_d_j(k)\n",
    "    c_k_j = []\n",
    "    for j in range(1, k + 1):\n",
    "        ans = 1\n",
    "        for i in range(1, n + 1):\n",
    "            if i != j:\n",
    "                ans *= d_j[j - 1] / (d_j[j - 1] - d_j[i - 1])\n",
    "        c_k_j.append(ans)\n",
    "    return c_k_j"
   ]
  },
  {
   "cell_type": "code",
   "execution_count": 12,
   "metadata": {},
   "outputs": [],
   "source": [
    "# Вычисление в точках (ускоренный Виддер W_n(k, f, t))\n",
    "def solut_2(n, k, e, t):\n",
    "    d_j = comp_d_j(k)\n",
    "    c_k_j = comp_c_k_j(n, k)\n",
    "    ans = 0\n",
    "    for j in range(1, k + 1):\n",
    "        r = comp_r(n * d_j[j - 1])\n",
    "        m = comp_m(n * d_j[j - 1], e)\n",
    "        ans += c_k_j[j - 1] * W_n_m(m, n * d_j[j - 1], r, t)\n",
    "    return ans"
   ]
  },
  {
   "cell_type": "code",
   "execution_count": 13,
   "metadata": {},
   "outputs": [],
   "source": [
    "# Разложение F(p) в ряд (n - количество элементов в ряде)\n",
    "def row_F(n, t):\n",
    "    ans = 0\n",
    "    for i in range(n):\n",
    "        ans += 5 ** i * t ** (i - 0.5) / math.gamma(i - 0.5)\n",
    "    for i in range(n):\n",
    "        ans -= 5 ** i * t ** (i - 2 / 3) / math.gamma(i - 2 / 3)\n",
    "    return ans"
   ]
  },
  {
   "cell_type": "code",
   "execution_count": 14,
   "metadata": {},
   "outputs": [
    {
     "name": "stdout",
     "output_type": "stream",
     "text": [
      "F(p) = (p^(1/2) - p^(1/3)) / (p + 5)\n"
     ]
    }
   ],
   "source": [
    "print('F(p) = (p^(1/2) - p^(1/3)) / (p + 5)')\n",
    "color = ['b', 'g', 'r', 'c', 'm', 'y', 'k', 'grey']\n",
    "    "
   ]
  },
  {
   "cell_type": "code",
   "execution_count": 18,
   "metadata": {},
   "outputs": [
    {
     "name": "stderr",
     "output_type": "stream",
     "text": [
      "C:\\Users\\oleg\\anaconda3\\lib\\site-packages\\ipykernel_launcher.py:10: MatplotlibDeprecationWarning: Adding an axes using the same arguments as a previous axes currently reuses the earlier instance.  In a future version, a new instance will always be created and returned.  Meanwhile, this warning can be suppressed, and the future behavior ensured, by passing a unique label to each axes instance.\n",
      "  # Remove the CWD from sys.path while we load stuff.\n",
      "C:\\Users\\oleg\\anaconda3\\lib\\site-packages\\ipykernel_launcher.py:10: MatplotlibDeprecationWarning: Adding an axes using the same arguments as a previous axes currently reuses the earlier instance.  In a future version, a new instance will always be created and returned.  Meanwhile, this warning can be suppressed, and the future behavior ensured, by passing a unique label to each axes instance.\n",
      "  # Remove the CWD from sys.path while we load stuff.\n",
      "C:\\Users\\oleg\\anaconda3\\lib\\site-packages\\ipykernel_launcher.py:10: MatplotlibDeprecationWarning: Adding an axes using the same arguments as a previous axes currently reuses the earlier instance.  In a future version, a new instance will always be created and returned.  Meanwhile, this warning can be suppressed, and the future behavior ensured, by passing a unique label to each axes instance.\n",
      "  # Remove the CWD from sys.path while we load stuff.\n",
      "C:\\Users\\oleg\\anaconda3\\lib\\site-packages\\ipykernel_launcher.py:10: MatplotlibDeprecationWarning: Adding an axes using the same arguments as a previous axes currently reuses the earlier instance.  In a future version, a new instance will always be created and returned.  Meanwhile, this warning can be suppressed, and the future behavior ensured, by passing a unique label to each axes instance.\n",
      "  # Remove the CWD from sys.path while we load stuff.\n",
      "C:\\Users\\oleg\\anaconda3\\lib\\site-packages\\ipykernel_launcher.py:10: MatplotlibDeprecationWarning: Adding an axes using the same arguments as a previous axes currently reuses the earlier instance.  In a future version, a new instance will always be created and returned.  Meanwhile, this warning can be suppressed, and the future behavior ensured, by passing a unique label to each axes instance.\n",
      "  # Remove the CWD from sys.path while we load stuff.\n",
      "C:\\Users\\oleg\\anaconda3\\lib\\site-packages\\ipykernel_launcher.py:10: MatplotlibDeprecationWarning: Adding an axes using the same arguments as a previous axes currently reuses the earlier instance.  In a future version, a new instance will always be created and returned.  Meanwhile, this warning can be suppressed, and the future behavior ensured, by passing a unique label to each axes instance.\n",
      "  # Remove the CWD from sys.path while we load stuff.\n",
      "C:\\Users\\oleg\\anaconda3\\lib\\site-packages\\ipykernel_launcher.py:10: MatplotlibDeprecationWarning: Adding an axes using the same arguments as a previous axes currently reuses the earlier instance.  In a future version, a new instance will always be created and returned.  Meanwhile, this warning can be suppressed, and the future behavior ensured, by passing a unique label to each axes instance.\n",
      "  # Remove the CWD from sys.path while we load stuff.\n"
     ]
    },
    {
     "data": {
      "text/plain": [
       "<matplotlib.legend.Legend at 0x144eb20cec8>"
      ]
     },
     "execution_count": 18,
     "metadata": {},
     "output_type": "execute_result"
    },
    {
     "data": {
      "image/png": "[encoded data removed]",
      "text/plain": [
       "<Figure size 432x288 with 1 Axes>"
      ]
     },
     "metadata": {
      "needs_background": "light"
     },
     "output_type": "display_data"
    }
   ],
   "source": [
    "    # Метод Виддера\n",
    "    n1 = 100\n",
    "    e = 1e-12\n",
    "    for i in range(8):\n",
    "        X = []\n",
    "        Y = []\n",
    "        for j in range(10):\n",
    "            X.append(j * 5 + 135)\n",
    "            Y.append(solut_1(i + n1, e, j * 5 + 135).real)\n",
    "        plt.subplot(2, 2, 1)\n",
    "        plt.title('Метод Виддера', fontsize = 15)\n",
    "        plt.plot(X, Y, color = color[i], marker = '', linestyle = '-', markerfacecolor = color[i], label = 'При n = ' + str(i + n1))\n",
    "    plt.legend(loc = 'best', prop={\"size\":5})\n"
   ]
  },
  {
   "cell_type": "code",
   "execution_count": 21,
   "metadata": {},
   "outputs": [
    {
     "name": "stderr",
     "output_type": "stream",
     "text": [
      "C:\\Users\\oleg\\anaconda3\\lib\\site-packages\\ipykernel_launcher.py:10: MatplotlibDeprecationWarning: Adding an axes using the same arguments as a previous axes currently reuses the earlier instance.  In a future version, a new instance will always be created and returned.  Meanwhile, this warning can be suppressed, and the future behavior ensured, by passing a unique label to each axes instance.\n",
      "  # Remove the CWD from sys.path while we load stuff.\n",
      "C:\\Users\\oleg\\anaconda3\\lib\\site-packages\\ipykernel_launcher.py:10: MatplotlibDeprecationWarning: Adding an axes using the same arguments as a previous axes currently reuses the earlier instance.  In a future version, a new instance will always be created and returned.  Meanwhile, this warning can be suppressed, and the future behavior ensured, by passing a unique label to each axes instance.\n",
      "  # Remove the CWD from sys.path while we load stuff.\n",
      "C:\\Users\\oleg\\anaconda3\\lib\\site-packages\\ipykernel_launcher.py:10: MatplotlibDeprecationWarning: Adding an axes using the same arguments as a previous axes currently reuses the earlier instance.  In a future version, a new instance will always be created and returned.  Meanwhile, this warning can be suppressed, and the future behavior ensured, by passing a unique label to each axes instance.\n",
      "  # Remove the CWD from sys.path while we load stuff.\n",
      "C:\\Users\\oleg\\anaconda3\\lib\\site-packages\\ipykernel_launcher.py:10: MatplotlibDeprecationWarning: Adding an axes using the same arguments as a previous axes currently reuses the earlier instance.  In a future version, a new instance will always be created and returned.  Meanwhile, this warning can be suppressed, and the future behavior ensured, by passing a unique label to each axes instance.\n",
      "  # Remove the CWD from sys.path while we load stuff.\n",
      "C:\\Users\\oleg\\anaconda3\\lib\\site-packages\\ipykernel_launcher.py:10: MatplotlibDeprecationWarning: Adding an axes using the same arguments as a previous axes currently reuses the earlier instance.  In a future version, a new instance will always be created and returned.  Meanwhile, this warning can be suppressed, and the future behavior ensured, by passing a unique label to each axes instance.\n",
      "  # Remove the CWD from sys.path while we load stuff.\n",
      "C:\\Users\\oleg\\anaconda3\\lib\\site-packages\\ipykernel_launcher.py:10: MatplotlibDeprecationWarning: Adding an axes using the same arguments as a previous axes currently reuses the earlier instance.  In a future version, a new instance will always be created and returned.  Meanwhile, this warning can be suppressed, and the future behavior ensured, by passing a unique label to each axes instance.\n",
      "  # Remove the CWD from sys.path while we load stuff.\n",
      "C:\\Users\\oleg\\anaconda3\\lib\\site-packages\\ipykernel_launcher.py:10: MatplotlibDeprecationWarning: Adding an axes using the same arguments as a previous axes currently reuses the earlier instance.  In a future version, a new instance will always be created and returned.  Meanwhile, this warning can be suppressed, and the future behavior ensured, by passing a unique label to each axes instance.\n",
      "  # Remove the CWD from sys.path while we load stuff.\n"
     ]
    },
    {
     "data": {
      "text/plain": [
       "<matplotlib.legend.Legend at 0x144eb22fcc8>"
      ]
     },
     "execution_count": 21,
     "metadata": {},
     "output_type": "execute_result"
    },
    {
     "data": {
      "image/png": "[encoded data removed]",
      "text/plain": [
       "<Figure size 432x288 with 1 Axes>"
      ]
     },
     "metadata": {
      "needs_background": "light"
     },
     "output_type": "display_data"
    }
   ],
   "source": [
    "    # Метод Виддера с ускоренеим сходимости\n",
    "    k = 11\n",
    "    n2 = 1\n",
    "    for i in range(8):\n",
    "        X = []\n",
    "        Y = []\n",
    "        for j in range(10):\n",
    "            X.append(j * 5 + 135)\n",
    "            Y.append(solut_2(n2, i + k, e, j * 5 + 135).real)\n",
    "        plt.subplot(2, 2, 2)\n",
    "        plt.title('Метод Виддера с ускорением сходимости при n = ' + str(n2), fontsize = 15)\n",
    "        plt.plot(X, Y, color = color[i], marker = '', linestyle = '-', markerfacecolor = color[i], label = 'При k = ' + str(i + k))\n",
    "    plt.legend(loc = 'best', prop={\"size\":5})"
   ]
  },
  {
   "cell_type": "code",
   "execution_count": 22,
   "metadata": {},
   "outputs": [
    {
     "name": "stderr",
     "output_type": "stream",
     "text": [
      "C:\\Users\\oleg\\anaconda3\\lib\\site-packages\\ipykernel_launcher.py:10: MatplotlibDeprecationWarning: Adding an axes using the same arguments as a previous axes currently reuses the earlier instance.  In a future version, a new instance will always be created and returned.  Meanwhile, this warning can be suppressed, and the future behavior ensured, by passing a unique label to each axes instance.\n",
      "  # Remove the CWD from sys.path while we load stuff.\n",
      "C:\\Users\\oleg\\anaconda3\\lib\\site-packages\\ipykernel_launcher.py:10: MatplotlibDeprecationWarning: Adding an axes using the same arguments as a previous axes currently reuses the earlier instance.  In a future version, a new instance will always be created and returned.  Meanwhile, this warning can be suppressed, and the future behavior ensured, by passing a unique label to each axes instance.\n",
      "  # Remove the CWD from sys.path while we load stuff.\n",
      "C:\\Users\\oleg\\anaconda3\\lib\\site-packages\\ipykernel_launcher.py:10: MatplotlibDeprecationWarning: Adding an axes using the same arguments as a previous axes currently reuses the earlier instance.  In a future version, a new instance will always be created and returned.  Meanwhile, this warning can be suppressed, and the future behavior ensured, by passing a unique label to each axes instance.\n",
      "  # Remove the CWD from sys.path while we load stuff.\n",
      "C:\\Users\\oleg\\anaconda3\\lib\\site-packages\\ipykernel_launcher.py:10: MatplotlibDeprecationWarning: Adding an axes using the same arguments as a previous axes currently reuses the earlier instance.  In a future version, a new instance will always be created and returned.  Meanwhile, this warning can be suppressed, and the future behavior ensured, by passing a unique label to each axes instance.\n",
      "  # Remove the CWD from sys.path while we load stuff.\n",
      "C:\\Users\\oleg\\anaconda3\\lib\\site-packages\\ipykernel_launcher.py:10: MatplotlibDeprecationWarning: Adding an axes using the same arguments as a previous axes currently reuses the earlier instance.  In a future version, a new instance will always be created and returned.  Meanwhile, this warning can be suppressed, and the future behavior ensured, by passing a unique label to each axes instance.\n",
      "  # Remove the CWD from sys.path while we load stuff.\n",
      "C:\\Users\\oleg\\anaconda3\\lib\\site-packages\\ipykernel_launcher.py:10: MatplotlibDeprecationWarning: Adding an axes using the same arguments as a previous axes currently reuses the earlier instance.  In a future version, a new instance will always be created and returned.  Meanwhile, this warning can be suppressed, and the future behavior ensured, by passing a unique label to each axes instance.\n",
      "  # Remove the CWD from sys.path while we load stuff.\n",
      "C:\\Users\\oleg\\anaconda3\\lib\\site-packages\\ipykernel_launcher.py:10: MatplotlibDeprecationWarning: Adding an axes using the same arguments as a previous axes currently reuses the earlier instance.  In a future version, a new instance will always be created and returned.  Meanwhile, this warning can be suppressed, and the future behavior ensured, by passing a unique label to each axes instance.\n",
      "  # Remove the CWD from sys.path while we load stuff.\n"
     ]
    },
    {
     "data": {
      "text/plain": [
       "<matplotlib.legend.Legend at 0x144eb347508>"
      ]
     },
     "execution_count": 22,
     "metadata": {},
     "output_type": "execute_result"
    },
    {
     "data": {
      "image/png": "[encoded data removed]",
      "text/plain": [
       "<Figure size 432x288 with 1 Axes>"
      ]
     },
     "metadata": {
      "needs_background": "light"
     },
     "output_type": "display_data"
    }
   ],
   "source": [
    "    # Оригинал в виде ряда\n",
    "    # n - количество элементов в ряде\n",
    "    n3 = 1\n",
    "    for i in range(8):\n",
    "        X = []\n",
    "        Y = []\n",
    "        for j in range(10):\n",
    "            X.append((j + 1) / 10)\n",
    "            Y.append(row_F(i + n3,  (j + 1) / 25))\n",
    "        plt.subplot(2, 2, 3)\n",
    "        plt.title('Оригинал в виде ряда', fontsize = 15)\n",
    "        plt.plot(X, Y, color = color[i], marker = '', linestyle = '-', markerfacecolor = color[i], label = 'При n = ' + str(i + n3))\n",
    "        # plt.ylim(-1, 1)\n",
    "    plt.legend(loc = 'best', prop={\"size\":5})"
   ]
  },
  {
   "cell_type": "code",
   "execution_count": 26,
   "metadata": {},
   "outputs": [
    {
     "data": {
      "text/plain": [
       "<matplotlib.legend.Legend at 0x144eb516088>"
      ]
     },
     "execution_count": 26,
     "metadata": {},
     "output_type": "execute_result"
    },
    {
     "data": {
      "image/png": "[encoded data removed]",
      "text/plain": [
       "<Figure size 432x288 with 1 Axes>"
      ]
     },
     "metadata": {
      "needs_background": "light"
     },
     "output_type": "display_data"
    }
   ],
   "source": [
    "    X = []\n",
    "    Y1, Y2, Y3 = [], [], []\n",
    "    for j in range(10):\n",
    "        X.append(j * 5 + 135)\n",
    "        Y1.append(solut_1(7 + n1, e, j * 5 + 40).real)\n",
    "        Y2.append(solut_2(n2, 7 + k, e, j * 5 + 40).real)\n",
    "        Y3.append(row_F(n3, (j + 1) / 25))\n",
    "    plt.subplot(2, 2, 4)\n",
    "    plt.title('Сравнение всех методов', fontsize = 15)\n",
    "    plt.plot(X, Y1, color = color[0], marker = '', linestyle = '-', markerfacecolor = color[0], \n",
    "             label = 'Метод Виддера при n = ' + str(7 + n1))\n",
    "    plt.plot(X, Y2, color = color[1], marker = '', linestyle = '-', markerfacecolor = color[1], \n",
    "             label = 'Метод Виддера с ускорением при k = ' + str(7 + k))\n",
    "    plt.plot(X, Y3, color = color[5], marker = '', linestyle = '-', markerfacecolor = color[5], \n",
    "             label = 'Оригинал в виде ряда при n = ' + str(7 + n3))\n",
    "    plt.legend(loc = 'best', prop={\"size\":5})\n",
    "    # plt.ylim(-1, 1)"
   ]
  },
  {
   "cell_type": "markdown",
   "metadata": {},
   "source": [
    "Метод с ускоренной сходимостью стремится быстрее, чем обычный метод Виддера"
   ]
  },
  {
   "cell_type": "code",
   "execution_count": null,
   "metadata": {},
   "outputs": [],
   "source": []
  },
  {
   "cell_type": "code",
   "execution_count": null,
   "metadata": {},
   "outputs": [],
   "source": []
  },
  {
   "cell_type": "code",
   "execution_count": null,
   "metadata": {},
   "outputs": [],
   "source": []
  },
  {
   "cell_type": "code",
   "execution_count": null,
   "metadata": {},
   "outputs": [],
   "source": []
  }
 ],
 "metadata": {
  "kernelspec": {
   "display_name": "Python 3",
   "language": "python",
   "name": "python3"
  },
  "language_info": {
   "codemirror_mode": {
    "name": "ipython",
    "version": 3
   },
   "file_extension": ".py",
   "mimetype": "text/x-python",
   "name": "python",
   "nbconvert_exporter": "python",
   "pygments_lexer": "ipython3",
   "version": "3.7.6"
  }
 },
 "nbformat": 4,
 "nbformat_minor": 4
}
