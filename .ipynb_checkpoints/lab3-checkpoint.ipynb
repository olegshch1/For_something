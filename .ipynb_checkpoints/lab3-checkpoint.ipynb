{
 "cells": [
  {
   "cell_type": "code",
   "execution_count": 1,
   "metadata": {},
   "outputs": [],
   "source": [
    "import numpy\n",
    "import math\n",
    "import matplotlib.pyplot as plt"
   ]
  },
  {
   "cell_type": "code",
   "execution_count": 2,
   "metadata": {},
   "outputs": [],
   "source": [
    "# Функция K(x, s)\n",
    "def K(x, s):\n",
    "    return math.cos(3.0 + x + s)"
   ]
  },
  {
   "cell_type": "code",
   "execution_count": 3,
   "metadata": {},
   "outputs": [],
   "source": [
    "# Коэффициент A_k\n",
    "def A_k(n):\n",
    "    return 1.0 / n"
   ]
  },
  {
   "cell_type": "code",
   "execution_count": 4,
   "metadata": {},
   "outputs": [],
   "source": [
    "# Коэффициент s_j (нумерация с 1)\n",
    "def s_j(j, n):\n",
    "    return A_k(n) * (j - 0.5)"
   ]
  },
  {
   "cell_type": "code",
   "execution_count": 5,
   "metadata": {},
   "outputs": [],
   "source": [
    "# Функция u(x)\n",
    "def u(x):\n",
    "    return 2 * math.sin(0.5) * math.cos(3.5 + x)"
   ]
  },
  {
   "cell_type": "code",
   "execution_count": 6,
   "metadata": {},
   "outputs": [],
   "source": [
    "# Вычисление U ( = u(s_j))\n",
    "def comp_U(n):\n",
    "    return numpy.array([u(s_j(i, n)) for i in range(1, n + 1)])\n"
   ]
  },
  {
   "cell_type": "code",
   "execution_count": 7,
   "metadata": {},
   "outputs": [],
   "source": [
    "# Вычисление C\n",
    "def comp_C(n):\n",
    "    return numpy.array([[A_k(n) * K(s_j(j, n), s_j(k, n)) for k in range(1, n + 1)] for j in range(1, n + 1)])"
   ]
  },
  {
   "cell_type": "code",
   "execution_count": 8,
   "metadata": {},
   "outputs": [],
   "source": [
    "# Вычисление Z ( = z(s_j))\n",
    "def comp_Z(n, alpha):\n",
    "    U = comp_U(n)\n",
    "    C = comp_C(n)\n",
    "    C_H = C.transpose()\n",
    "    A = C_H.dot(C) + alpha * numpy.eye(n)\n",
    "    b = C_H.dot(U)\n",
    "    return numpy.linalg.solve(A, b)"
   ]
  },
  {
   "cell_type": "code",
   "execution_count": 9,
   "metadata": {},
   "outputs": [],
   "source": [
    "# Погрешность вычисления Z\n",
    "def calc_error(Z):\n",
    "    return max([abs(i - 1) for i in Z])\n"
   ]
  },
  {
   "cell_type": "code",
   "execution_count": 12,
   "metadata": {},
   "outputs": [
    {
     "name": "stdout",
     "output_type": "stream",
     "text": [
      "K(x, s) = cos(3 + x + s)\n",
      "u(x) = 2 * sin(0.5) * cos(3.5 + x)\n",
      "n/alpha\t\t10^-1\t\t\t10^-2\t\t\t10^-3\t\t\t10^-4\t\t\t10^-5\t\t\t10^-6\n",
      "10\t0.5142482548353389\t0.22862266101690487\t0.03799061529848358\t0.004073783342503079\t0.00041028971952439264\t4.0996399716775045e-05\t\n",
      "20\t0.5258696299975165\t0.23558213632677227\t0.03903888927965837\t0.00418350304777948\t0.000421317315979608\t4.210514981761726e-05\t\n",
      "30\t0.5297261224159652\t0.2380662420937436\t0.03944022511278067\t0.00422608539477165\t0.00042556419144579305\t4.2492431730933866e-05\t\n",
      "40\t0.5316526596952834\t0.23934150759246453\t0.03965113659678732\t0.004248523365431689\t0.00042776013761269827\t4.2649253306437096e-05\t\n",
      "50\t0.5328083501022941\t0.24011773778800183\t0.03978115587227493\t0.004262476880907529\t0.0004292166400837738\t4.284651379249382e-05\t\n",
      "60\t0.5335787118590778\t0.24063986688574435\t0.039869253536017\t0.004271937833672079\t0.00043019769594387913\t4.297294325517065e-05\t\n",
      "70\t0.5341289690244468\t0.2410151472049641\t0.03993291381269226\t0.00427880655265056\t0.00043093594400300805\t4.309323188989023e-05\t\n",
      "80\t0.5345415719743677\t0.2412977969107103\t0.0399809677262325\t0.004283924212394763\t0.00043141536962199023\t4.310517400252234e-05\t\n",
      "90\t0.5348622231930255\t0.24151813330941474\t0.04001831568208036\t0.004287673326589747\t0.0004315329237023491\t4.285666289816081e-05\t\n"
     ]
    }
   ],
   "source": [
    "    print('K(x, s) = cos(3 + x + s)')\n",
    "    print('u(x) = 2 * sin(0.5) * cos(3.5 + x)')\n",
    "\n",
    "    result = numpy.array([[0.0 for j in range(9)] for i in range(9)])\n",
    "    \n",
    "    for i in range(1, 10):\n",
    "        result_i = []\n",
    "        min = 100\n",
    "        for j in range(1, 10):\n",
    "            Z = comp_Z(10 * i, 10 ** (-j))\n",
    "            result[i - 1][j - 1] = calc_error(Z)\n",
    "            if calc_error(Z) < min:\n",
    "                min = calc_error(Z)\n",
    "                n = 10 * i\n",
    "                alpha = 10 ** (-j)\n",
    "        for j in range(1, 10):\n",
    "            result[i - 1][j - 1] -= min\n",
    "    \n",
    "    print('n/alpha\\t\\t10^-1\\t\\t\\t10^-2\\t\\t\\t10^-3\\t\\t\\t10^-4\\t\\t\\t10^-5\\t\\t\\t10^-6')\n",
    "    for i in range(9):\n",
    "        print(str((i + 1) * 10) + '\\t' + str(result[i][0]) + '\\t' + str(result[i][1]) + '\\t' + \n",
    "              str(result[i][2]) + '\\t' + str(result[i][3]) + '\\t' + str(result[i][4]) + \n",
    "              '\\t' + str(result[i][5]) + '\\t')"
   ]
  },
  {
   "cell_type": "markdown",
   "metadata": {},
   "source": [
    "Из таблицы видно, что оптимальные значения n=10 и alpha=10^-6"
   ]
  },
  {
   "cell_type": "code",
   "execution_count": null,
   "metadata": {},
   "outputs": [],
   "source": []
  }
 ],
 "metadata": {
  "kernelspec": {
   "display_name": "Python 3",
   "language": "python",
   "name": "python3"
  },
  "language_info": {
   "codemirror_mode": {
    "name": "ipython",
    "version": 3
   },
   "file_extension": ".py",
   "mimetype": "text/x-python",
   "name": "python",
   "nbconvert_exporter": "python",
   "pygments_lexer": "ipython3",
   "version": "3.7.6"
  }
 },
 "nbformat": 4,
 "nbformat_minor": 4
}
