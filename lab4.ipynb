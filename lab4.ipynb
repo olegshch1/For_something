{
 "cells": [
  {
   "cell_type": "code",
   "execution_count": 1,
   "metadata": {},
   "outputs": [],
   "source": [
    "import numpy\n",
    "import math\n",
    "import matplotlib.pyplot as plt"
   ]
  },
  {
   "cell_type": "code",
   "execution_count": 2,
   "metadata": {},
   "outputs": [],
   "source": [
    "# Полиномы Лежандра (нумерация с 0, k - верхний индекс)\n",
    "def L_n(n, x):\n",
    "    if n == 0: return 1\n",
    "    if n == 1: return x\n",
    "    return (2 * n + 1) / (n + 1) * x * L_n(n - 1, x) - n / (n + 1) * L_n(n - 2, x)"
   ]
  },
  {
   "cell_type": "code",
   "execution_count": 3,
   "metadata": {},
   "outputs": [],
   "source": [
    "# Функции w_i(x) (нумерация с 0)\n",
    "def w_i(i, x):\n",
    "    return L_n(i, x)"
   ]
  },
  {
   "cell_type": "code",
   "execution_count": 4,
   "metadata": {},
   "outputs": [],
   "source": [
    "# Функция u(x)\n",
    "def u(x):\n",
    "    return 2 * math.sin(0.5) * math.cos(3.5 + x)\n"
   ]
  },
  {
   "cell_type": "code",
   "execution_count": 5,
   "metadata": {},
   "outputs": [],
   "source": [
    "# Функция K(x, s)\n",
    "def K(x, s):\n",
    "    return math.cos(3 + x + s)"
   ]
  },
  {
   "cell_type": "code",
   "execution_count": 10,
   "metadata": {},
   "outputs": [],
   "source": [
    "# Функция u(x) для z(s) = s^2+1\n",
    "def u_2(x):\n",
    "    return 2 * math.cos(4 + x) + math.sin(x + 3)\n"
   ]
  },
  {
   "cell_type": "code",
   "execution_count": 11,
   "metadata": {},
   "outputs": [],
   "source": [
    "# Оператор A(w_i(x)) (нумерация с 0)\n",
    "def A(i, x):\n",
    "    X = []\n",
    "    Y = []\n",
    "    for k in range(101):\n",
    "        X.append(0.01 * k)\n",
    "        Y.append(K(x, X[k]) * w_i(i, X[k]))\n",
    "\n",
    "    return numpy.trapz(Y, X)"
   ]
  },
  {
   "cell_type": "code",
   "execution_count": 12,
   "metadata": {},
   "outputs": [],
   "source": [
    "# Вычисление B\n",
    "def comp_B(n):\n",
    "    B = numpy.array([[0.0 for i in range(n)] for j in range(n)])\n",
    "\n",
    "    for i in range(n):\n",
    "        for j in range(n):\n",
    "            X = []\n",
    "            Y = []\n",
    "            for k in range(101):\n",
    "                X.append(0.01 * k)\n",
    "                Y.append(A(j, X[k]) * w_i(i, X[k]))\n",
    "            B[i][j] = numpy.trapz(Y, X)\n",
    "\n",
    "    return numpy.array(B)\n"
   ]
  },
  {
   "cell_type": "code",
   "execution_count": 13,
   "metadata": {},
   "outputs": [],
   "source": [
    "# Вычисление U ( = u(s_j)) для z(x) = x^2 + 1\n",
    "def comp_U_2(n):\n",
    "    U = []\n",
    "\n",
    "    for i in range(n):\n",
    "        X = []\n",
    "        Y = []\n",
    "        for k in range(101):\n",
    "            X.append(0.01 * k)\n",
    "            Y.append(u_2(X[k]) * w_i(i, X[k]))\n",
    "        U.append(numpy.trapz(Y, X))\n",
    "\n",
    "    return numpy.array(U)"
   ]
  },
  {
   "cell_type": "code",
   "execution_count": 14,
   "metadata": {},
   "outputs": [],
   "source": [
    "# Вычисление C ( = c_j) для z(x) = x^2 + 1 \n",
    "def comp_C_2(n, alpha):\n",
    "    U = comp_U_2(n)\n",
    "    B = comp_B(n)\n",
    "    B_H = B.transpose()\n",
    "    A = B_H.dot(B) + alpha * numpy.eye(n)\n",
    "    b = B_H.dot(U)\n",
    "    return numpy.linalg.solve(A, b)"
   ]
  },
  {
   "cell_type": "code",
   "execution_count": 15,
   "metadata": {},
   "outputs": [],
   "source": [
    "# Вывод значений для Галеркина \n",
    "def solut(n, alpha):\n",
    "    c_j = comp_C_2(n, alpha)\n",
    "    y_n_x = []\n",
    "    for j in range(6):\n",
    "        ans = 0\n",
    "        for i in range(n):\n",
    "            ans += c_j[i] * w_i(i, j * 0.2)\n",
    "        y_n_x.append(ans)\n",
    "    return y_n_x"
   ]
  },
  {
   "cell_type": "code",
   "execution_count": 17,
   "metadata": {},
   "outputs": [
    {
     "name": "stdout",
     "output_type": "stream",
     "text": [
      "Az(x) = int(z(s) * cos(3 + x + s)ds, 0, 1) = 2 * sin(1/2) * cos(7/2 + x)\n"
     ]
    },
    {
     "data": {
      "image/png": "[encoded data removed]",
      "text/plain": [
       "<Figure size 432x288 with 1 Axes>"
      ]
     },
     "metadata": {
      "needs_background": "light"
     },
     "output_type": "display_data"
    }
   ],
   "source": [
    "    print('Az(x) = int(z(s) * cos(3 + x + s)ds, 0, 1) = 2 * sin(1/2) * cos(7/2 + x)')\n",
    "\n",
    "    color = ['red', 'green', 'orange', 'black', 'purple', 'pink']\n",
    "    for i in range(3, 9):\n",
    "        Z_n = solut(3, 0.1 ** i)\n",
    "        X = [0.2 * i for i in range(6)]\n",
    "        Y = [(0.2 * i) ** 2 + 1 for i in range(6)]\n",
    "        plt.plot(X, Z_n, color = color[i - 3], marker = 'o', linestyle = '-', markerfacecolor = color[i - 3], label = ' Вычисленный Z, при alpha = ' + str(0.1 ** i))\n",
    "        \n",
    "    plt.plot(X, Y, color = 'blue', marker = 'o', linestyle = '-', markerfacecolor = 'blue', label = 's^2 + 1') \n",
    "    plt.legend(loc = 'best')\n",
    "    plt.show()\n"
   ]
  },
  {
   "cell_type": "markdown",
   "metadata": {},
   "source": [
    "Имеем уравнение с заданным ядром.\n",
    "\n",
    "1)Вычисляем u(x) при z(s)=1 и z(s)=s^2+1\n",
    "\n",
    "2)Выбираем многочлены Лежандра, как координатную систему и ищем приближенное решение в виде лин. комбинации\n",
    "\n",
    "3)Условие равенства моментов позволяет найти неизвестные коэффициенты, после чего получаем СЛАУ\n",
    "\n",
    "4)СЛАУ перепишем в матричном виде. Она плохо обусловлена, значит, решать ее будем методом регуляризации: ищем решение системы (B*B+alpha*E)*C=B*U с положительным alpha\n",
    "\n",
    "Вывод: метод Галеркина работает точнее, но медленнее из-за интегрирования B"
   ]
  },
  {
   "cell_type": "code",
   "execution_count": null,
   "metadata": {},
   "outputs": [],
   "source": []
  }
 ],
 "metadata": {
  "kernelspec": {
   "display_name": "Python 3",
   "language": "python",
   "name": "python3"
  },
  "language_info": {
   "codemirror_mode": {
    "name": "ipython",
    "version": 3
   },
   "file_extension": ".py",
   "mimetype": "text/x-python",
   "name": "python",
   "nbconvert_exporter": "python",
   "pygments_lexer": "ipython3",
   "version": "3.7.6"
  }
 },
 "nbformat": 4,
 "nbformat_minor": 4
}
